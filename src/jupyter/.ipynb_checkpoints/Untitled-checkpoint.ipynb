{
 "cells": [
  {
   "cell_type": "code",
   "execution_count": 18,
   "metadata": {},
   "outputs": [],
   "source": [
    "# by: Joao Roque\n",
    "\n",
    "import numpy as np\n",
    "import pandas as pd\n",
    "import seaborn as sns\n",
    "import matplotlib.pyplot as plt"
   ]
  },
  {
   "cell_type": "code",
   "execution_count": 19,
   "metadata": {},
   "outputs": [
    {
     "data": {
      "text/html": [
       "<div>\n",
       "<style scoped>\n",
       "    .dataframe tbody tr th:only-of-type {\n",
       "        vertical-align: middle;\n",
       "    }\n",
       "\n",
       "    .dataframe tbody tr th {\n",
       "        vertical-align: top;\n",
       "    }\n",
       "\n",
       "    .dataframe thead th {\n",
       "        text-align: right;\n",
       "    }\n",
       "</style>\n",
       "<table border=\"1\" class=\"dataframe\">\n",
       "  <thead>\n",
       "    <tr style=\"text-align: right;\">\n",
       "      <th></th>\n",
       "      <th>Meetup #</th>\n",
       "      <th>City</th>\n",
       "      <th>Venue</th>\n",
       "      <th>Date</th>\n",
       "      <th>Profile</th>\n",
       "      <th>Motivation - Get in touch with companies</th>\n",
       "      <th>Motivation - Be part of the community</th>\n",
       "      <th>Motivation - Learn Techniques</th>\n",
       "      <th>Motivation - Drinking beers</th>\n",
       "      <th>Motivation - Meet Speakers</th>\n",
       "      <th>Motivation - Learn Technologies</th>\n",
       "      <th>Motivation - Discuss approaches/problems</th>\n",
       "      <th>Motivation - Other</th>\n",
       "      <th>Suggestions - workshops and meetups topics</th>\n",
       "      <th>Suggestions - Other</th>\n",
       "      <th>How was the meetup</th>\n",
       "    </tr>\n",
       "  </thead>\n",
       "  <tbody>\n",
       "    <tr>\n",
       "      <th>0</th>\n",
       "      <td>15.0</td>\n",
       "      <td>Braga</td>\n",
       "      <td>Subvisual</td>\n",
       "      <td>18/10/2017</td>\n",
       "      <td>Professional</td>\n",
       "      <td>-</td>\n",
       "      <td>-</td>\n",
       "      <td>2</td>\n",
       "      <td>-</td>\n",
       "      <td>-</td>\n",
       "      <td>1</td>\n",
       "      <td>3</td>\n",
       "      <td>-</td>\n",
       "      <td>-</td>\n",
       "      <td>-</td>\n",
       "      <td>Good</td>\n",
       "    </tr>\n",
       "    <tr>\n",
       "      <th>1</th>\n",
       "      <td>15.0</td>\n",
       "      <td>Braga</td>\n",
       "      <td>Subvisual</td>\n",
       "      <td>18/10/2017</td>\n",
       "      <td>Interested</td>\n",
       "      <td>3</td>\n",
       "      <td>7</td>\n",
       "      <td>2</td>\n",
       "      <td>4</td>\n",
       "      <td>6</td>\n",
       "      <td>1</td>\n",
       "      <td>5</td>\n",
       "      <td>-</td>\n",
       "      <td>-</td>\n",
       "      <td>-</td>\n",
       "      <td>Good</td>\n",
       "    </tr>\n",
       "    <tr>\n",
       "      <th>2</th>\n",
       "      <td>15.0</td>\n",
       "      <td>Braga</td>\n",
       "      <td>Subvisual</td>\n",
       "      <td>18/10/2017</td>\n",
       "      <td>Interested</td>\n",
       "      <td>5</td>\n",
       "      <td>2</td>\n",
       "      <td>3</td>\n",
       "      <td>-</td>\n",
       "      <td>-</td>\n",
       "      <td>1</td>\n",
       "      <td>4</td>\n",
       "      <td>-</td>\n",
       "      <td>-</td>\n",
       "      <td>-</td>\n",
       "      <td>Good</td>\n",
       "    </tr>\n",
       "    <tr>\n",
       "      <th>3</th>\n",
       "      <td>15.0</td>\n",
       "      <td>Braga</td>\n",
       "      <td>Subvisual</td>\n",
       "      <td>18/10/2017</td>\n",
       "      <td>Interested</td>\n",
       "      <td>6</td>\n",
       "      <td>4</td>\n",
       "      <td>1</td>\n",
       "      <td>7</td>\n",
       "      <td>5</td>\n",
       "      <td>2</td>\n",
       "      <td>3</td>\n",
       "      <td>-</td>\n",
       "      <td>Present real world scenarios, and also speak i...</td>\n",
       "      <td>for beginners, it could be interesting to talk...</td>\n",
       "      <td>Good</td>\n",
       "    </tr>\n",
       "    <tr>\n",
       "      <th>4</th>\n",
       "      <td>15.0</td>\n",
       "      <td>Braga</td>\n",
       "      <td>Subvisual</td>\n",
       "      <td>18/10/2017</td>\n",
       "      <td>Student</td>\n",
       "      <td>-</td>\n",
       "      <td>-</td>\n",
       "      <td>X</td>\n",
       "      <td>-</td>\n",
       "      <td>-</td>\n",
       "      <td>X</td>\n",
       "      <td>X</td>\n",
       "      <td>-</td>\n",
       "      <td>Processamento de Linguagem Natural</td>\n",
       "      <td>-</td>\n",
       "      <td>Good</td>\n",
       "    </tr>\n",
       "  </tbody>\n",
       "</table>\n",
       "</div>"
      ],
      "text/plain": [
       "   Meetup #   City      Venue        Date       Profile  \\\n",
       "0      15.0  Braga  Subvisual  18/10/2017  Professional   \n",
       "1      15.0  Braga  Subvisual  18/10/2017    Interested   \n",
       "2      15.0  Braga  Subvisual  18/10/2017    Interested   \n",
       "3      15.0  Braga  Subvisual  18/10/2017    Interested   \n",
       "4      15.0  Braga  Subvisual  18/10/2017       Student   \n",
       "\n",
       "  Motivation - Get in touch with companies  \\\n",
       "0                                        -   \n",
       "1                                        3   \n",
       "2                                        5   \n",
       "3                                        6   \n",
       "4                                        -   \n",
       "\n",
       "  Motivation - Be part of the community Motivation - Learn Techniques  \\\n",
       "0                                     -                             2   \n",
       "1                                     7                             2   \n",
       "2                                     2                             3   \n",
       "3                                     4                             1   \n",
       "4                                     -                             X   \n",
       "\n",
       "  Motivation - Drinking beers Motivation - Meet Speakers  \\\n",
       "0                           -                          -   \n",
       "1                           4                          6   \n",
       "2                           -                          -   \n",
       "3                           7                          5   \n",
       "4                           -                          -   \n",
       "\n",
       "  Motivation - Learn Technologies Motivation - Discuss approaches/problems  \\\n",
       "0                               1                                        3   \n",
       "1                               1                                        5   \n",
       "2                               1                                        4   \n",
       "3                               2                                        3   \n",
       "4                               X                                        X   \n",
       "\n",
       "  Motivation - Other          Suggestions - workshops and meetups topics  \\\n",
       "0                   -                                                  -   \n",
       "1                   -                                                  -   \n",
       "2                   -                                                  -   \n",
       "3                   -  Present real world scenarios, and also speak i...   \n",
       "4                   -                 Processamento de Linguagem Natural   \n",
       "\n",
       "                                 Suggestions - Other How was the meetup  \n",
       "0                                                  -               Good  \n",
       "1                                                  -               Good  \n",
       "2                                                  -               Good  \n",
       "3  for beginners, it could be interesting to talk...               Good  \n",
       "4                                                  -               Good  "
      ]
     },
     "execution_count": 19,
     "metadata": {},
     "output_type": "execute_result"
    }
   ],
   "source": [
    "survey = pd.read_csv('../../data/survey.csv')\n",
    "#survey['Profile'] = survey['Profile'].astype('category')\n",
    "\n",
    "survey.head()"
   ]
  },
  {
   "cell_type": "markdown",
   "metadata": {},
   "source": [
    "## Let's Start with the real Questions here\n",
    "\n",
    "Who are the ones most interested in drinking beer?"
   ]
  },
  {
   "cell_type": "code",
   "execution_count": 20,
   "metadata": {},
   "outputs": [
    {
     "name": "stderr",
     "output_type": "stream",
     "text": [
      "C:\\Users\\Joao_\\Anaconda3\\lib\\site-packages\\ipykernel_launcher.py:3: SettingWithCopyWarning: \n",
      "A value is trying to be set on a copy of a slice from a DataFrame.\n",
      "Try using .loc[row_indexer,col_indexer] = value instead\n",
      "\n",
      "See the caveats in the documentation: http://pandas.pydata.org/pandas-docs/stable/indexing.html#indexing-view-versus-copy\n",
      "  This is separate from the ipykernel package so we can avoid doing imports until\n"
     ]
    },
    {
     "data": {
      "image/png": "[encoded data removed]",
      "text/plain": [
       "<matplotlib.figure.Figure at 0x1ad3431ae80>"
      ]
     },
     "metadata": {},
     "output_type": "display_data"
    }
   ],
   "source": [
    "# Lot's of invalid answers ( 996 --> less than 200)\n",
    "beer_survey = survey[survey['Motivation - Drinking beers'].astype(str).str.isdigit()]\n",
    "beer_survey['Motivation - Drinking beers'] = [int(x) for x in beer_survey['Motivation - Drinking beers']]\n",
    "\n",
    "# input: give me that dataframes\n",
    "def hor_box(data):\n",
    "    plt.figure()\n",
    "    plt.xlim(0,10)\n",
    "    sns.boxplot(x=\"Motivation - Drinking beers\", y=\"Profile\", data=data\n",
    "                , palette=\"vlag\")\n",
    "    sns.swarmplot(x=\"Motivation - Drinking beers\", y=\"Profile\", data=data,\n",
    "                  size=2, color=\".3\", linewidth=1)\n",
    "    sns.despine(trim=True, left=True)\n",
    "    \n",
    "hor_box(beer_survey)"
   ]
  },
  {
   "cell_type": "markdown",
   "metadata": {},
   "source": [
    "Looks like we have a few Professional Drinkers, aHaH! No? Okay, I'll see myself out...  \n",
    "Some classes are really underrepresented here. Let's just remove them ¯\\\\_(ツ)_/¯"
   ]
  },
  {
   "cell_type": "code",
   "execution_count": 21,
   "metadata": {},
   "outputs": [
    {
     "data": {
      "image/png": "[encoded data removed]",
      "text/plain": [
       "<matplotlib.figure.Figure at 0x1ad3b62e898>"
      ]
     },
     "metadata": {},
     "output_type": "display_data"
    }
   ],
   "source": [
    "beer_survey = beer_survey.loc[beer_survey['Profile'].isin(['Interested', 'Professional', 'Researcher', 'Student'])]\n",
    "beer_survey.head()\n",
    "\n",
    "hor_box(beer_survey)"
   ]
  },
  {
   "cell_type": "markdown",
   "metadata": {},
   "source": [
    "Turns out no one wants to admit their 10/10 alchool problem."
   ]
  }
 ],
 "metadata": {
  "kernelspec": {
   "display_name": "Python 3",
   "language": "python",
   "name": "python3"
  },
  "language_info": {
   "codemirror_mode": {
    "name": "ipython",
    "version": 3
   },
   "file_extension": ".py",
   "mimetype": "text/x-python",
   "name": "python",
   "nbconvert_exporter": "python",
   "pygments_lexer": "ipython3",
   "version": "3.6.4"
  }
 },
 "nbformat": 4,
 "nbformat_minor": 2
}
